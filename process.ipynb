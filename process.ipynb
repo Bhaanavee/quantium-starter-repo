{
 "cells": [
  {
   "cell_type": "code",
   "execution_count": 1,
   "id": "e764d7c6-a360-4769-ae6b-931133b91bee",
   "metadata": {},
   "outputs": [],
   "source": [
    "import pandas as pd\n",
    "import numpy as np\n",
    "import seaborn as sns"
   ]
  },
  {
   "cell_type": "code",
   "execution_count": 10,
   "id": "2c17cb3d-2075-4c3d-8e51-f99c6d8421ec",
   "metadata": {},
   "outputs": [],
   "source": [
    "file_paths = ['/Users/bhaanaveecs/Documents/Quantium/quantium-starter-repo/data/daily_sales_data_0.csv', '/Users/bhaanaveecs/Documents/Quantium/quantium-starter-repo/data/daily_sales_data_1.csv', '/Users/bhaanaveecs/Documents/Quantium/quantium-starter-repo/data/daily_sales_data_2.csv']"
   ]
  },
  {
   "cell_type": "code",
   "execution_count": 12,
   "id": "92fbc8ef-04c4-4456-9935-f1c10ca3c527",
   "metadata": {},
   "outputs": [
    {
     "name": "stdout",
     "output_type": "stream",
     "text": [
      "Successfully combined all data.\n",
      "\n",
      "Combined DataFrame Info:\n",
      "<class 'pandas.core.frame.DataFrame'>\n",
      "RangeIndex: 41160 entries, 0 to 41159\n",
      "Data columns (total 5 columns):\n",
      " #   Column    Non-Null Count  Dtype \n",
      "---  ------    --------------  ----- \n",
      " 0   product   41160 non-null  object\n",
      " 1   price     41160 non-null  object\n",
      " 2   quantity  41160 non-null  int64 \n",
      " 3   date      41160 non-null  object\n",
      " 4   region    41160 non-null  object\n",
      "dtypes: int64(1), object(4)\n",
      "memory usage: 1.6+ MB\n"
     ]
    }
   ],
   "source": [
    "all_data = pd.concat([pd.read_csv(f) for f in file_paths], ignore_index=True)\n",
    "print(\"Successfully combined all data.\")\n",
    "print(\"\\nCombined DataFrame Info:\")\n",
    "all_data.info()"
   ]
  },
  {
   "cell_type": "code",
   "execution_count": 15,
   "id": "8ff08140-055b-4645-a18d-fdb509ffbbae",
   "metadata": {},
   "outputs": [
    {
     "data": {
      "text/html": [
       "<div>\n",
       "<style scoped>\n",
       "    .dataframe tbody tr th:only-of-type {\n",
       "        vertical-align: middle;\n",
       "    }\n",
       "\n",
       "    .dataframe tbody tr th {\n",
       "        vertical-align: top;\n",
       "    }\n",
       "\n",
       "    .dataframe thead th {\n",
       "        text-align: right;\n",
       "    }\n",
       "</style>\n",
       "<table border=\"1\" class=\"dataframe\">\n",
       "  <thead>\n",
       "    <tr style=\"text-align: right;\">\n",
       "      <th></th>\n",
       "      <th>product</th>\n",
       "      <th>price</th>\n",
       "      <th>quantity</th>\n",
       "      <th>date</th>\n",
       "      <th>region</th>\n",
       "    </tr>\n",
       "  </thead>\n",
       "  <tbody>\n",
       "    <tr>\n",
       "      <th>30796</th>\n",
       "      <td>lapis morsel</td>\n",
       "      <td>$1.99</td>\n",
       "      <td>412</td>\n",
       "      <td>2021-02-09</td>\n",
       "      <td>north</td>\n",
       "    </tr>\n",
       "    <tr>\n",
       "      <th>36997</th>\n",
       "      <td>magenta morsel</td>\n",
       "      <td>$2.50</td>\n",
       "      <td>497</td>\n",
       "      <td>2021-09-19</td>\n",
       "      <td>south</td>\n",
       "    </tr>\n",
       "    <tr>\n",
       "      <th>32745</th>\n",
       "      <td>chartreuse morsel</td>\n",
       "      <td>$3.00</td>\n",
       "      <td>444</td>\n",
       "      <td>2021-04-20</td>\n",
       "      <td>south</td>\n",
       "    </tr>\n",
       "    <tr>\n",
       "      <th>13741</th>\n",
       "      <td>vermilion morsel</td>\n",
       "      <td>$4.99</td>\n",
       "      <td>588</td>\n",
       "      <td>2019-06-11</td>\n",
       "      <td>south</td>\n",
       "    </tr>\n",
       "    <tr>\n",
       "      <th>37934</th>\n",
       "      <td>vermilion morsel</td>\n",
       "      <td>$4.99</td>\n",
       "      <td>447</td>\n",
       "      <td>2021-10-22</td>\n",
       "      <td>east</td>\n",
       "    </tr>\n",
       "  </tbody>\n",
       "</table>\n",
       "</div>"
      ],
      "text/plain": [
       "                 product  price  quantity        date region\n",
       "30796       lapis morsel  $1.99       412  2021-02-09  north\n",
       "36997     magenta morsel  $2.50       497  2021-09-19  south\n",
       "32745  chartreuse morsel  $3.00       444  2021-04-20  south\n",
       "13741   vermilion morsel  $4.99       588  2019-06-11  south\n",
       "37934   vermilion morsel  $4.99       447  2021-10-22   east"
      ]
     },
     "execution_count": 15,
     "metadata": {},
     "output_type": "execute_result"
    }
   ],
   "source": [
    "all_data.sample(5)"
   ]
  },
  {
   "cell_type": "code",
   "execution_count": 16,
   "id": "dc7e838f-7a6f-419b-b1a3-99357ff384ad",
   "metadata": {},
   "outputs": [],
   "source": [
    "pink_morsels_df = all_data[all_data['product'] == 'pink morsel'].copy()\n",
    "pink_morsels_df['price'] = pink_morsels_df['price'].str.replace('$', '', regex=False).astype(float)\n",
    "pink_morsels_df['Sales'] = pink_morsels_df['quantity'] * pink_morsels_df['price']\n",
    "final_output = pink_morsels_df[['Sales', 'date', 'region']]"
   ]
  },
  {
   "cell_type": "code",
   "execution_count": 17,
   "id": "29187c5e-b1e5-4d44-bd0e-0cdae925bee2",
   "metadata": {},
   "outputs": [
    {
     "name": "stdout",
     "output_type": "stream",
     "text": [
      "Data processing complete. The final DataFrame has been created.\n",
      "\n",
      "First 5 rows of the processed data:\n",
      "     Sales        date region\n",
      "0   1638.0  2018-02-06  north\n",
      "1   1647.0  2018-02-06  south\n",
      "2   1731.0  2018-02-06   east\n",
      "3   1557.0  2018-02-06   west\n",
      "28  1587.0  2018-02-07  north\n"
     ]
    }
   ],
   "source": [
    "print(\"Data processing complete. The final DataFrame has been created.\")\n",
    "print(\"\\nFirst 5 rows of the processed data:\")\n",
    "print(final_output.head())"
   ]
  },
  {
   "cell_type": "code",
   "execution_count": 18,
   "id": "579930a1-06df-47a2-9a63-72437034ee00",
   "metadata": {},
   "outputs": [
    {
     "name": "stdout",
     "output_type": "stream",
     "text": [
      "Final data successfully saved to 'processed_data.csv'.\n"
     ]
    }
   ],
   "source": [
    "output_file_name = 'processed_data.csv'\n",
    "final_output.to_csv(output_file_name, index=False)\n",
    "print(f\"Final data successfully saved to '{output_file_name}'.\")"
   ]
  },
  {
   "cell_type": "code",
   "execution_count": null,
   "id": "d06b48c5-2a8f-4f0b-9bd5-e1b60b40c566",
   "metadata": {},
   "outputs": [],
   "source": []
  }
 ],
 "metadata": {
  "kernelspec": {
   "display_name": "Python 3 (ipykernel)",
   "language": "python",
   "name": "python3"
  },
  "language_info": {
   "codemirror_mode": {
    "name": "ipython",
    "version": 3
   },
   "file_extension": ".py",
   "mimetype": "text/x-python",
   "name": "python",
   "nbconvert_exporter": "python",
   "pygments_lexer": "ipython3",
   "version": "3.9.6"
  }
 },
 "nbformat": 4,
 "nbformat_minor": 5
}
